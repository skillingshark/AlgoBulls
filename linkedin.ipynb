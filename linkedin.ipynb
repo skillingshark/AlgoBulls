{
 "cells": [
  {
   "cell_type": "markdown",
   "metadata": {},
   "source": [
    "# Fully Automated Scrapping Script is Below the Try Script"
   ]
  },
  {
   "cell_type": "markdown",
   "metadata": {},
   "source": [
    "## Making Individual Functions for scrapping different elements"
   ]
  },
  {
   "cell_type": "code",
   "execution_count": 25,
   "metadata": {},
   "outputs": [],
   "source": [
    "from selenium.webdriver.common.by import By\n",
    "import re\n",
    "import time \n",
    "import pandas as pd\n",
    "from dotenv import load_dotenv\n",
    "import os"
   ]
  },
  {
   "cell_type": "code",
   "execution_count": null,
   "metadata": {},
   "outputs": [],
   "source": [
    "load_dotenv()\n",
    "username = 'USERNAME'\n",
    "# print(username)\n",
    "\n",
    "password = os.getenv(\"password\") #Add your password to a .env file to use this \n",
    "# print(password)\n",
    "\n",
    "url = 'https://www.linkedin.com/search/results/people/?keywords=software%20development&origin=CLUSTER_EXPANSION&searchId=e26746ff-110f-49f5-9ac8-a8d744523a88&sid=78i'\n",
    "\n",
    "driver = webdriver.Chrome()\n",
    "\n",
    "driver.get(url)\n",
    "\n",
    "\n",
    "link = driver.find_element('link text' , 'Sign in')\n",
    "link.click()\n",
    "\n",
    "driver.find_element('name' , 'session_key').send_keys(username)\n",
    "driver.find_element('name' , 'session_password').send_keys(password)\n",
    "\n",
    "button1 = driver.find_element('xpath' , '//button[@class = \"btn__primary--large from__button--floating\"]')\n",
    "button1.click()"
   ]
  },
  {
   "cell_type": "code",
   "execution_count": 29,
   "metadata": {},
   "outputs": [
    {
     "name": "stdout",
     "output_type": "stream",
     "text": [
      "['Tanya Raghuvanshi', 'Nandini Sheshapogu', 'Veeraj Goudar', 'Yash Porwal', 'Soham Kulthe', 'Bulbul Kumari', 'Tanay Wagh', 'Karthik Pillai', 'Sagar Shukla', 'Suchika Sachdeva']\n",
      "['Senior Software Development Engineer at Rubrik', 'Software Development Engineer at Lumen Technologies', None, 'Software Development Engineer at Meesho', 'Associate software development engineer at Bridgenext', None, 'Software Development Engineer - UI at RapidCanvas', 'Founder & CEO at ProductizeTech - • Development & Management of Artificial...', 'Software Engineer 2 at Intuit', 'Software Development Engineer at Amazon']\n"
     ]
    }
   ],
   "source": [
    "\n",
    "# Auto scroll to bottom to extract all divs\n",
    "driver.execute_script(\"window.scrollTo(0, document.body.scrollHeight);\")\n",
    "time.sleep(0.1)\n",
    "\n",
    "# Extracting div elements for each profile\n",
    "div_elements = driver.find_elements(By.CSS_SELECTOR , \".OzvalhrkwCqWxEJqLlPixJqliVaykBmz.entity-result__divider.pt3.pb3.t-12.t-black--light\")\n",
    "\n",
    "\n",
    "# Extracting names and current positions\n",
    "names = []\n",
    "positions = []\n",
    "\n",
    "for div_element in div_elements:\n",
    "    lines = div_element.text.split('\\n')\n",
    "    name = lines[0]\n",
    "    names.append(name)\n",
    "    \n",
    "    pattern = r'Current:\\s*(.*?)(?:\\n|$)'\n",
    "    match = re.search(pattern, div_element.text )\n",
    "    if match:\n",
    "        current_position = match.group(1)\n",
    "    else:\n",
    "        current_position = None\n",
    "    positions.append(current_position)\n",
    "    \n",
    "print(names)\n",
    "print(positions)\n",
    "    \n"
   ]
  },
  {
   "cell_type": "code",
   "execution_count": 30,
   "metadata": {},
   "outputs": [
    {
     "name": "stdout",
     "output_type": "stream",
     "text": [
      "10 10\n"
     ]
    }
   ],
   "source": [
    "print(len(names), len(positions))"
   ]
  },
  {
   "cell_type": "code",
   "execution_count": 87,
   "metadata": {},
   "outputs": [
    {
     "name": "stdout",
     "output_type": "stream",
     "text": [
      "                Names                                  Current Positions\n",
      "0   Tanya Raghuvanshi     Senior Software Development Engineer at Rubrik\n",
      "1  Nandini Sheshapogu  Software Development Engineer at Lumen Technol...\n",
      "2       Veeraj Goudar                                               None\n",
      "3         Yash Porwal            Software Development Engineer at Meesho\n",
      "4        Soham Kulthe  Associate software development engineer at Bri...\n",
      "5       Bulbul Kumari                                               None\n",
      "6          Tanay Wagh  Software Development Engineer - UI at RapidCanvas\n",
      "7      Karthik Pillai  Founder & CEO at ProductizeTech - • Developmen...\n",
      "8        Sagar Shukla                      Software Engineer 2 at Intuit\n",
      "9    Suchika Sachdeva            Software Development Engineer at Amazon\n"
     ]
    }
   ],
   "source": [
    "df = pd.DataFrame({\"Names\": names, \"Current Positions\": positions})\n",
    "print(df)\n",
    "\n",
    "df.to_csv('LinkedIn_extract')"
   ]
  },
  {
   "cell_type": "code",
   "execution_count": 118,
   "metadata": {},
   "outputs": [
    {
     "name": "stdout",
     "output_type": "stream",
     "text": [
      "['https://www.linkedin.com/in/tanya-raghuvanshi-19aa12271?miniProfileUrn=urn%3Ali%3Afs_miniProfile%3AACoAAEKJJ4YBNZJeQdf7JifM7ZNqsryRcL6cJAk', 'https://www.linkedin.com/in/nandini-sheshapogu-42b1b3192?miniProfileUrn=urn%3Ali%3Afs_miniProfile%3AACoAAC08PaMB9dcL6vklrJEQdnKJ3iPrY7XTnaQ', 'https://www.linkedin.com/in/veeraj-goudar-a3348020a?miniProfileUrn=urn%3Ali%3Afs_miniProfile%3AACoAADUbXccBfjrIYbyn8xFepjf-rQcs_hK_X5E', 'https://www.linkedin.com/in/yashporwal11?miniProfileUrn=urn%3Ali%3Afs_miniProfile%3AACoAADP677cBA5X__yRs_-j4W1tF1aqM5yV8xxo', 'https://www.linkedin.com/in/soham-kulthe?miniProfileUrn=urn%3Ali%3Afs_miniProfile%3AACoAACmdiWUBoOq8lLvqIubdPNVs1YEO9tUysGA', 'https://www.linkedin.com/in/bulbul-kumari?miniProfileUrn=urn%3Ali%3Afs_miniProfile%3AACoAAB3MJQEB-t-sx3gK04NCvycqHUcVnLpVibU', 'https://www.linkedin.com/in/tanay-wagh-83491b169?miniProfileUrn=urn%3Ali%3Afs_miniProfile%3AACoAACguW-gBmcrvMw_wJ7mfddXtnRJw8YdNSKI', 'https://www.linkedin.com/in/karthik-pillai?miniProfileUrn=urn%3Ali%3Afs_miniProfile%3AACoAACRZQj8Bqi8OILj7S2r6nfNhmCfDZyy_hCc', 'https://www.linkedin.com/in/sagar-shukla-99108815b?miniProfileUrn=urn%3Ali%3Afs_miniProfile%3AACoAACZGs30BYQYcUIZkcheMRsUUQdgz2jFRDtw', 'https://www.linkedin.com/in/suchika-sachdeva?miniProfileUrn=urn%3Ali%3Afs_miniProfile%3AACoAAC1Z8JcBLNhVirU9pUI1jE8KsAn8xqjS4Yo']\n"
     ]
    }
   ],
   "source": [
    "# Extracting Profile Urls\n",
    "\n",
    "# Scroll to bottom for not missing any element\n",
    "driver.execute_script(\"window.scrollTo(0, document.body.scrollHeight);\")\n",
    "time.sleep(0.1)\n",
    "\n",
    "\n",
    "# Extraction\n",
    "k = 0\n",
    "profileurls = []\n",
    "span_elements = driver.find_elements(By.CSS_SELECTOR, \"span.entity-result__title-line.entity-result__title-line--2-lines \")\n",
    "# print(span_elements)\n",
    "for span_element in span_elements:\n",
    "    # print(span_element.text)\n",
    "    try:\n",
    "        link = span_element.find_element(By.CSS_SELECTOR, \"a.app-aware-link\")\n",
    "        link = link.get_attribute(\"href\")\n",
    "        # if k%3 == 0:\n",
    "        profileurls.append(link)\n",
    "        k+=1\n",
    "    except:\n",
    "        pass\n",
    "print(profileurls)\n",
    "# browser.refresh()\n",
    "\n",
    "df[\"ProfileUrls\"] = profileurls"
   ]
  },
  {
   "cell_type": "code",
   "execution_count": 120,
   "metadata": {},
   "outputs": [],
   "source": [
    "df.to_csv('LinkedIn_extract')"
   ]
  },
  {
   "cell_type": "code",
   "execution_count": null,
   "metadata": {},
   "outputs": [],
   "source": [
    "# for profileurl in profileurls:\n",
    "\n",
    "# profileurl = 'https://www.linkedin.com/in/tanya-raghuvanshi-19aa12271?miniProfileUrn=urn%3Ali%3Afs_miniProfile%3AACoAAEKJJ4YBNZJeQdf7JifM7ZNqsryRcL6cJAk'\n",
    "profileurl = 'https://www.linkedin.com/in/veeraj-goudar-a3348020a?miniProfileUrn=urn%3Ali%3Afs_miniProfile%3AACoAADUbXccBfjrIYbyn8xFepjf-rQcs_hK_X5E'\n",
    "driver.get(profileurl)\n",
    "\n",
    "driver.execute_script(\"window.scrollTo(0, document.body.scrollHeight);\")\n",
    "time.sleep(0.1)\n",
    "\n",
    "# div_elements\n",
    "\n",
    "# skill_link = driver.find_element(By.CSS_SELECTOR , '.optional-action-target-wrapper.artdeco-button.artdeco-button--tertiary.artdeco-button--standard.artdeco-button--2.artdeco-button--muted.inline-flex.justify-center.full-width.align-items-center.artdeco-button--fluid')\n",
    "div = driver.find_elements('xpath' , '//div[@id = \"skills\"]')\n",
    "print(div.text)\n",
    "# div = div.parent\n",
    "link = div.find_element(By.CSS_SELECTOR , '.optional-action-target-wrapper.artdeco-button.artdeco-button--tertiary.artdeco-button--standard.artdeco-button--2.artdeco-button--muted.inline-flex.justify-center.full-width.align-items-center.artdeco-button--fluid')\n",
    "link = link.get_attribute('href')\n",
    "# driver.get(skill_link.get_attribute('href'))\n",
    "print( link)\n",
    "    "
   ]
  },
  {
   "cell_type": "markdown",
   "metadata": {},
   "source": [
    "### Skill Links Automated"
   ]
  },
  {
   "cell_type": "code",
   "execution_count": null,
   "metadata": {},
   "outputs": [],
   "source": [
    "skill_links = []\n",
    "for url in profileurls:\n",
    "    driver.get(url) \n",
    "    driver.execute_script(\"window.scrollTo(0, document.body.scrollHeight);\")\n",
    "    time.sleep(0.1)\n",
    "    try:\n",
    "        section_element = driver.find_element('xpath',\"//section[div[@id='skills']]\")\n",
    "        # Find the anchor tag inside the div with id \"skills\"\n",
    "        anchor_tag = section_element.find_elements('xpath' , \".//a\")\n",
    "        # Get the value of the href attribute\n",
    "        href_link = anchor_tag[-1].get_attribute(\"href\")\n",
    "        skill_links.append(href_link)\n",
    "    except:\n",
    "        skill_links.append(\"Not Uploaded\")\n",
    "    \n",
    "\n",
    "df[\"Skill Links\"] = skill_links"
   ]
  },
  {
   "cell_type": "code",
   "execution_count": 150,
   "metadata": {},
   "outputs": [
    {
     "name": "stdout",
     "output_type": "stream",
     "text": [
      "https://www.linkedin.com/in/veeraj-goudar-a3348020a/details/skills?profileUrn=urn%3Ali%3Afsd_profile%3AACoAADUbXccBfjrIYbyn8xFepjf-rQcs_hK_X5E\n"
     ]
    }
   ],
   "source": [
    "url = profileurls[2]\n",
    "driver.get(url)\n",
    "driver.execute_script(\"window.scrollTo(0, document.body.scrollHeight);\")\n",
    "time.sleep(0.1)\n",
    "section_element = driver.find_element('xpath',\"//section[div[@id='skills']]\")\n",
    "# Find the anchor tag inside the div with id \"skills\"\n",
    "anchor_tag = section_element.find_elements('xpath' , \".//a\")\n",
    "# Get the value of the href attribute\n",
    "href_link = anchor_tag[-1].get_attribute(\"href\")\n",
    "print(href_link)\n"
   ]
  },
  {
   "cell_type": "code",
   "execution_count": 165,
   "metadata": {},
   "outputs": [],
   "source": [
    "\n",
    "df.to_csv('LinkedIn_extract')"
   ]
  },
  {
   "cell_type": "code",
   "execution_count": 151,
   "metadata": {},
   "outputs": [
    {
     "name": "stdout",
     "output_type": "stream",
     "text": [
      "\n"
     ]
    }
   ],
   "source": [
    "# u = 'https://www.linkedin.com/search/results/all/?keywords=C%2B%2B&origin=PROFILE_PAGE_SKILL_NAVIGATION'\n",
    "driver.get(href_link)\n",
    "\n",
    "skill_span_elements = driver.find_elements('xpath' , '//span[@class = \"visually-hidden\"]')\n",
    "print(skill_span_elements[0].text)"
   ]
  },
  {
   "cell_type": "code",
   "execution_count": 161,
   "metadata": {},
   "outputs": [
    {
     "name": "stdout",
     "output_type": "stream",
     "text": [
      "Programming Languages , C (Programming Language) , Python (Programming Language) , Microsoft Azure , Machine Learning , Data Science , Computer Vision , Java , SQL , PL/SQL , Problem Solving , Project Management , Time Management , \n"
     ]
    }
   ],
   "source": [
    "skills = ''\n",
    "for i in range(len(skill_span_elements)):\n",
    "    flag1 = skill_span_elements[i].text == 'Passed LinkedIn Skill Assessment'\n",
    "    flag2 = skill_span_elements[i].text.find(\"endorsement\") == -1\n",
    "    # print(flag1 , flag2 , \"\\n\")\n",
    "    if skill_span_elements[i].text and flag1 == False and flag2 :\n",
    "        skills += skill_span_elements[i].text\n",
    "        skills += \" , \"\n",
    "    # print((skill_span_elements[i].text))\n",
    "    \n",
    "print(skills)"
   ]
  },
  {
   "cell_type": "markdown",
   "metadata": {},
   "source": [
    "## Fully Automated Scrapping script\n"
   ]
  },
  {
   "cell_type": "markdown",
   "metadata": {},
   "source": [
    "### Loading Driver and Auto Login"
   ]
  },
  {
   "cell_type": "code",
   "execution_count": 25,
   "metadata": {},
   "outputs": [],
   "source": [
    "\n",
    "load_dotenv()\n",
    "username = 'USERNAME'\n",
    "# print(username)\n",
    "\n",
    "password = os.getenv(\"password\") #Add your password to a .env file to use this \n",
    "# print(password)\n",
    "\n",
    "url = 'https://www.linkedin.com/search/results/people/?keywords=software%20development&origin=CLUSTER_EXPANSION&searchId=e26746ff-110f-49f5-9ac8-a8d744523a88&sid=78i'\n",
    "\n",
    "driver = webdriver.Chrome()\n",
    "\n",
    "driver.get(url)\n",
    "\n",
    "\n",
    "link = driver.find_element('link text' , 'Sign in')\n",
    "link.click()\n",
    "\n",
    "driver.find_element('name' , 'session_key').send_keys(username)\n",
    "driver.find_element('name' , 'session_password').send_keys(password)\n",
    "\n",
    "button1 = driver.find_element('xpath' , '//button[@class = \"btn__primary--large from__button--floating\"]')\n",
    "button1.click()"
   ]
  },
  {
   "cell_type": "markdown",
   "metadata": {},
   "source": [
    "### Extracting Names and Positions form 1 page"
   ]
  },
  {
   "cell_type": "code",
   "execution_count": 16,
   "metadata": {},
   "outputs": [],
   "source": [
    "def names_pos(names , positions , div_elements ):\n",
    "    \n",
    "    # div_elements = driver.find_elements(By.CSS_SELECTOR , \".OzvalhrkwCqWxEJqLlPixJqliVaykBmz.entity-result__divider.pt3.pb3.t-12.t-black--light\")\n",
    "    \n",
    "    for div_element in div_elements:\n",
    "        # print(div_element.text)\n",
    "        lines = div_element.text.split('\\n')\n",
    "        name = lines[0]\n",
    "        names.append(name)\n",
    "        \n",
    "    # div_elements = driver.find_elements(By.CSS_SELECTOR , \".OzvalhrkwCqWxEJqLlPixJqliVaykBmz.entity-result__divider.pt3.pb3.t-12.t-black--light\")\n",
    "    \n",
    "    # for div_element in div_elements:\n",
    "        pattern = r'Current:\\s*(.*?)(?:\\n|$)'\n",
    "        match = re.search(pattern, div_element.text )\n",
    "        if match:\n",
    "            current_position = match.group(1)\n",
    "        else:\n",
    "            current_position = None\n",
    "        positions.append(current_position)\n",
    "        # print(names , positions)"
   ]
  },
  {
   "cell_type": "markdown",
   "metadata": {},
   "source": [
    "## Automated extraction of name , current position , profile urls , skills "
   ]
  },
  {
   "cell_type": "markdown",
   "metadata": {},
   "source": [
    "### Extracting Names , Current Positions from all pages "
   ]
  },
  {
   "cell_type": "code",
   "execution_count": 4,
   "metadata": {},
   "outputs": [
    {
     "name": "stdout",
     "output_type": "stream",
     "text": [
      "check 1\n",
      "10\n",
      "Tanya Raghuvanshi\n",
      "Nandini Sheshapogu\n",
      "Veeraj Goudar\n",
      "Yash Porwal\n",
      "Soham Kulthe\n",
      "Bulbul Kumari\n",
      "Tanay Wagh\n",
      "Karthik Pillai\n",
      "Sagar Shukla\n",
      "Suchika Sachdeva\n",
      "Progress : 10/100 10/100\n",
      "check3\n",
      "check 1\n",
      "10\n",
      "Shreeved Dhanait\n",
      "Rahul Sharma\n",
      "Kadir Khatri\n",
      "Rahul Krishna\n",
      "Prasad Bhujbal\n",
      "Amar Kumar\n",
      "Anshuman Singh\n",
      "Priyank Agarwal\n",
      "Omkar Bhede\n",
      "Shreyas Kadu\n",
      "Progress : 20/100 20/100\n",
      "check3\n",
      "check 1\n",
      "10\n",
      "Vishesh Aggarwal\n",
      "Atul Agrawal\n",
      "dinesh Kuruba\n",
      "Adil Shah\n",
      "Altaf Ahmad\n",
      "Prajwal Kalpande\n",
      "Pradeep KR\n",
      "Rahul Agarwal\n",
      "Sarthak Ray\n",
      "Abhigyan Shreshtha\n",
      "Progress : 30/100 30/100\n",
      "check3\n",
      "check 1\n",
      "10\n",
      "Nishant Trivedi\n",
      "Snehal Chaudhari\n",
      "HARSHIT BANSAL\n",
      "Unnati Gupta\n",
      "RAHUL TEMBHURNE\n",
      "Deepanshu Gupta\n",
      "SHRIGANESH BHIDE\n",
      "Swapnil Prasad\n",
      "Vivek Susheela Kishanlal B.\n",
      "Nishit Hingu\n",
      "Progress : 40/100 40/100\n",
      "check3\n",
      "check 1\n",
      "10\n",
      "Tejas Amritkar\n",
      "Neeraj\n",
      "Rahul Sawantdesai\n",
      "Abhik Chatterjee\n",
      "Shreyas Chaudhari\n",
      "Nishant Kumar\n",
      "Jatin Nandal\n",
      "Shubham Bakare\n",
      "Yash Jain\n",
      "Rishabh S.\n",
      "Progress : 50/100 50/100\n",
      "check3\n",
      "check 1\n",
      "10\n",
      "Deepak Koul\n",
      "Surender Kumar\n",
      "Kaivan Shah\n",
      "Nandini Bagga\n",
      "Anjali Priya\n",
      "Adarsh Kumar\n",
      "Keshav Yadav\n",
      "Shreya K.\n",
      "Harsh Pancholi\n",
      "Akanksha Chavan\n",
      "Progress : 60/100 60/100\n",
      "check3\n",
      "check 1\n",
      "10\n",
      "Dhruv Bhagadia\n",
      "Santosh Kumar\n",
      "Dhwaj Sharma\n",
      "Surya Gupta\n",
      "Jay Shah\n",
      "Chinmay Shrikhande\n",
      "Manuj Vyas\n",
      "Sarvesh Hiwase\n",
      "Devesh Jamsandekar\n",
      "Manish Ahluwalia\n",
      "Progress : 70/100 70/100\n",
      "check3\n",
      "check 1\n",
      "10\n",
      "Rakshit Shinde\n",
      "Ravindra Patel\n",
      "Dauleshwar Kumar\n",
      "Shubhansh A.\n",
      "Kanchan Shekhawat\n",
      "Vivek Singh\n",
      "Vijay Bhat\n",
      "Vishal Vinay ram\n",
      "Mangal Singh Rawat\n",
      "Shubham Shinde\n",
      "Progress : 80/100 80/100\n",
      "check3\n",
      "check 1\n",
      "10\n",
      "Gowri Shankar Reddy Bayyapureddy\n",
      "Rishav Raj\n",
      "Abhishika Agarwal\n",
      "Himanshu Choudhary\n",
      "Santosh Yadav\n",
      "Shashwat Aggarwal\n",
      "Suyog Khadekar\n",
      "Chetan Dandu Regeti\n",
      "Lakshmi S Koundinya\n",
      "Krishna Baldwa\n",
      "Progress : 90/100 90/100\n",
      "check3\n",
      "check 1\n",
      "10\n",
      "Abhishek Jayswal\n",
      "Anshu Mishra\n",
      "Ajit Zote\n",
      "Rohit Fulani\n",
      "Sahil Anand\n",
      "Husain Mistry\n",
      "Tushar Sachdeva\n",
      "Girish B.\n",
      "NITISH BHARDWAJ\n",
      "Abhijay Rane\n",
      "Progress : 100/100 100/100\n",
      "check3\n"
     ]
    }
   ],
   "source": [
    "url = 'https://www.linkedin.com/search/results/people/?keywords=software%20development&origin=CLUSTER_EXPANSION&searchId=e26746ff-110f-49f5-9ac8-a8d744523a88&sid=78i'\n",
    "driver.get(url)\n",
    "\n",
    "names = []\n",
    "positions = []\n",
    "profileurls = []\n",
    "while(len(names)<100):\n",
    "    \n",
    "\n",
    "\n",
    "    # Auto scroll to bottom to extract all divs\n",
    "    driver.execute_script(\"window.scrollTo(0, document.body.scrollHeight);\")\n",
    "    time.sleep()\n",
    "\n",
    "    # Getting list of web elements for extracting Name and Current Position\n",
    "    div_elements = driver.find_elements(By.CSS_SELECTOR , \".OzvalhrkwCqWxEJqLlPixJqliVaykBmz.entity-result__divider.pt3.pb3.t-12.t-black--light\")\n",
    "    print(len(div_elements))\n",
    "    \n",
    "    # time.sleep(1)\n",
    "    for div_element in div_elements:\n",
    "        # print(div_element.text)\n",
    "        lines = div_element.text.split('\\n')\n",
    "        name = lines[0]\n",
    "        names.append(name)\n",
    "        print(len(names) , name)\n",
    "        \n",
    "        pattern = r'Current:\\s*(.*?)(?:\\n|$)'\n",
    "        match = re.search(pattern, div_element.text )\n",
    "        if match:\n",
    "            current_position = match.group(1)\n",
    "        else:\n",
    "            current_position = None\n",
    "        positions.append(current_position)\n",
    "    \n",
    "    \n",
    "    print( \"Progress :\" , f\"{len(names)}/100\" , f\"{len(positions)}/100\" , f\"{len(profileurls)}/100\")\n",
    "    driver.execute_script(\"window.scrollTo(0, document.body.scrollHeight);\")\n",
    "    time.sleep(5)\n",
    "\n",
    "    # Clicking on the next button to change the page \n",
    "    nextbutton = driver.find_element('xpath' , '//button[@class = \"artdeco-pagination__button artdeco-pagination__button--next artdeco-button artdeco-button--muted artdeco-button--icon-right artdeco-button--1 artdeco-button--tertiary ember-view\"]')\n",
    "    nextbutton.click()\n",
    "    time.sleep(5)\n",
    "    \n",
    "    \n",
    "    \n",
    "    \n",
    "    \n",
    "    \n",
    "    "
   ]
  },
  {
   "cell_type": "code",
   "execution_count": 5,
   "metadata": {},
   "outputs": [
    {
     "name": "stdout",
     "output_type": "stream",
     "text": [
      "100 100 0 0 0\n"
     ]
    }
   ],
   "source": [
    "print(len(names) , len(positions) , len(skills_list) , len(profileurls), len(skill_links))"
   ]
  },
  {
   "cell_type": "markdown",
   "metadata": {},
   "source": [
    "### Extracting All Profile Urls"
   ]
  },
  {
   "cell_type": "code",
   "execution_count": 7,
   "metadata": {},
   "outputs": [
    {
     "name": "stdout",
     "output_type": "stream",
     "text": [
      "https://www.linkedin.com/in/tanya-raghuvanshi-19aa12271?miniProfileUrn=urn%3Ali%3Afs_miniProfile%3AACoAAEKJJ4YBNZJeQdf7JifM7ZNqsryRcL6cJAk\n",
      "https://www.linkedin.com/in/nandini-sheshapogu-42b1b3192?miniProfileUrn=urn%3Ali%3Afs_miniProfile%3AACoAAC08PaMB9dcL6vklrJEQdnKJ3iPrY7XTnaQ\n",
      "https://www.linkedin.com/in/veeraj-goudar-a3348020a?miniProfileUrn=urn%3Ali%3Afs_miniProfile%3AACoAADUbXccBfjrIYbyn8xFepjf-rQcs_hK_X5E\n",
      "https://www.linkedin.com/in/yashporwal11?miniProfileUrn=urn%3Ali%3Afs_miniProfile%3AACoAADP677cBA5X__yRs_-j4W1tF1aqM5yV8xxo\n",
      "https://www.linkedin.com/in/soham-kulthe?miniProfileUrn=urn%3Ali%3Afs_miniProfile%3AACoAACmdiWUBoOq8lLvqIubdPNVs1YEO9tUysGA\n",
      "https://www.linkedin.com/in/bulbul-kumari?miniProfileUrn=urn%3Ali%3Afs_miniProfile%3AACoAAB3MJQEB-t-sx3gK04NCvycqHUcVnLpVibU\n",
      "https://www.linkedin.com/in/tanay-wagh-83491b169?miniProfileUrn=urn%3Ali%3Afs_miniProfile%3AACoAACguW-gBmcrvMw_wJ7mfddXtnRJw8YdNSKI\n",
      "https://www.linkedin.com/in/karthik-pillai?miniProfileUrn=urn%3Ali%3Afs_miniProfile%3AACoAACRZQj8Bqi8OILj7S2r6nfNhmCfDZyy_hCc\n",
      "https://www.linkedin.com/in/sagar-shukla-99108815b?miniProfileUrn=urn%3Ali%3Afs_miniProfile%3AACoAACZGs30BYQYcUIZkcheMRsUUQdgz2jFRDtw\n",
      "https://www.linkedin.com/in/suchika-sachdeva?miniProfileUrn=urn%3Ali%3Afs_miniProfile%3AACoAAC1Z8JcBLNhVirU9pUI1jE8KsAn8xqjS4Yo\n",
      "Progress : 10/100\n",
      "check3\n",
      "https://www.linkedin.com/in/shreeved-dhanait-6ab57627a?miniProfileUrn=urn%3Ali%3Afs_miniProfile%3AACoAAEQSP2MB7Uytah_zzq6--VeTKRDkPh4Cplw\n",
      "https://www.linkedin.com/in/rahulsharma-9baaa923?miniProfileUrn=urn%3Ali%3Afs_miniProfile%3AACoAAAT3lF4BtwXdP5xktsubDWEeB2nZF2Ttw88\n",
      "https://www.linkedin.com/in/kadir-khatri-739953174?miniProfileUrn=urn%3Ali%3Afs_miniProfile%3AACoAACluWV0B_JfAjh57ac-4_TD4Cbv5Wr4NA30\n",
      "https://www.linkedin.com/in/rahul-krishna-b43b19190?miniProfileUrn=urn%3Ali%3Afs_miniProfile%3AACoAAC0EGCMBpjOLR1LIjOQ6_Ps6eokvJglW14w\n",
      "https://www.linkedin.com/in/prasad-bhujbal?miniProfileUrn=urn%3Ali%3Afs_miniProfile%3AACoAADsC1_4BOmHw6TNoEJsZCGr3V8x0NRQPqbA\n",
      "https://www.linkedin.com/in/amar-kumar-931a39174?miniProfileUrn=urn%3Ali%3Afs_miniProfile%3AACoAAClxrPUBXkynRqiVjEHBWFy5xEooJJVZIDA\n",
      "https://www.linkedin.com/in/anshuman-singh-708689133?miniProfileUrn=urn%3Ali%3Afs_miniProfile%3AACoAACCrgLgBo0XSK7ALSffe4LWa_E4cKlgzBCo\n",
      "https://www.linkedin.com/in/agarwalpriyank2?miniProfileUrn=urn%3Ali%3Afs_miniProfile%3AACoAAAaF7kABmmptdV9kCmAa7p5ql5wK49wZtzE\n",
      "https://www.linkedin.com/in/omkar-bhede?miniProfileUrn=urn%3Ali%3Afs_miniProfile%3AACoAACtZgBIBgs33jNslAJFVUQCKxw41wRCxzRE\n",
      "https://www.linkedin.com/in/shreyas-kadu?miniProfileUrn=urn%3Ali%3Afs_miniProfile%3AACoAAC0p75ABLrPM87WPopVTLRQgCczITtEGcyo\n",
      "Progress : 20/100\n",
      "check3\n",
      "https://www.linkedin.com/in/vishesh-aggarwal-830b5416b?miniProfileUrn=urn%3Ali%3Afs_miniProfile%3AACoAACiSKKQBS85Diw9_ZMS0Ut_hNhKoB7JrolU\n",
      "https://www.linkedin.com/in/atulagrawal91?miniProfileUrn=urn%3Ali%3Afs_miniProfile%3AACoAAAjCtZoBOBtTJLxeB2W7DTII7ez_Y8PcfSc\n",
      "https://www.linkedin.com/in/dinesh-kuruba?miniProfileUrn=urn%3Ali%3Afs_miniProfile%3AACoAAApUWxUBZOpMQrmmByOSz5-u8OLU2R2eqn4\n",
      "https://www.linkedin.com/in/adil-shah-1b2586160?miniProfileUrn=urn%3Ali%3Afs_miniProfile%3AACoAACaHLZYBpFkffO0DZBvfbpzqUQeTRGeZnyI\n",
      "https://www.linkedin.com/in/altaf-ahmad-9b579416b?miniProfileUrn=urn%3Ali%3Afs_miniProfile%3AACoAACiEPZkBZlyPm4VxSc4ee_JVKzHLGoeFK6k\n",
      "https://www.linkedin.com/in/prajwal-kalpande-592089222?miniProfileUrn=urn%3Ali%3Afs_miniProfile%3AACoAADflZ_4Bq_ldi3o9xmkflla_ewHvQjf0lZ0\n",
      "https://www.linkedin.com/in/pradeepkr27?miniProfileUrn=urn%3Ali%3Afs_miniProfile%3AACoAAAMQaqgBczXHQG9DKZUv0Nk09uQztVpjs7o\n",
      "https://www.linkedin.com/in/rahulagarwal070193?miniProfileUrn=urn%3Ali%3Afs_miniProfile%3AACoAACQXs9QBzjTFJrjBEcf9qpOfgRtb_QkV9nQ\n",
      "https://www.linkedin.com/in/sarthak-ray96?miniProfileUrn=urn%3Ali%3Afs_miniProfile%3AACoAABmwqiUBPid1ya1wAB-gYexRE41VgsStOjA\n",
      "https://www.linkedin.com/in/abhigyan25?miniProfileUrn=urn%3Ali%3Afs_miniProfile%3AACoAADrbRQEB9zBfEJG23Wz6C10I-FlFPeun_d4\n",
      "Progress : 30/100\n",
      "check3\n",
      "https://www.linkedin.com/in/nishant-trivedi-424167215?miniProfileUrn=urn%3Ali%3Afs_miniProfile%3AACoAADZOc5wBl6WyBkNuoQl7230rxHq1GVwoI_U\n",
      "https://www.linkedin.com/in/snehal-chaudhari-591ab8136?miniProfileUrn=urn%3Ali%3Afs_miniProfile%3AACoAACFETD0BM1RfU3Kvc_6mb4H4WYQJd0wYU4k\n",
      "https://www.linkedin.com/in/harshitbansal75?miniProfileUrn=urn%3Ali%3Afs_miniProfile%3AACoAACoKSokBBLQVeqUGdAf8WbpaHcv444hcnPc\n",
      "https://www.linkedin.com/in/unnati-gupta-774451214?miniProfileUrn=urn%3Ali%3Afs_miniProfile%3AACoAADYr0AgBUWjSFAOFQvyQINznANAPl9mRlLc\n",
      "https://www.linkedin.com/in/rahul-tembhurne-334584214?miniProfileUrn=urn%3Ali%3Afs_miniProfile%3AACoAADYwoNgBzRDZzKzkAWyscAweEdwXsxDFrCU\n",
      "https://www.linkedin.com/in/deepanshu-gupta-00b507157?miniProfileUrn=urn%3Ali%3Afs_miniProfile%3AACoAACWg20sBiwCExltE2KOSJan1mo79hb0PagY\n",
      "https://www.linkedin.com/in/shriganesh-bhide-22562619b?miniProfileUrn=urn%3Ali%3Afs_miniProfile%3AACoAAC7mg70Bp-A8B20ZhByauvdouWCb27B0EN0\n",
      "https://www.linkedin.com/in/swapnil-prasad-405648229?miniProfileUrn=urn%3Ali%3Afs_miniProfile%3AACoAADk51EUB6RR7L-eXejqv3I19l89jVING_u8\n",
      "https://www.linkedin.com/in/vivek-susheela-kishanlal-bhati-5b5b57194?miniProfileUrn=urn%3Ali%3Afs_miniProfile%3AACoAAC27i5kBaUMrj2T5DKjwVX4xYOrqk07ByC0\n",
      "https://www.linkedin.com/in/nishit-hingu-4b4892194?miniProfileUrn=urn%3Ali%3Afs_miniProfile%3AACoAAC2xSUgBYmcu3AfYfNPz2jBjG0NfZoDwNso\n",
      "Progress : 40/100\n",
      "check3\n",
      "https://www.linkedin.com/in/tejas-amritkar-68b856221?miniProfileUrn=urn%3Ali%3Afs_miniProfile%3AACoAADfVMUsBEXkAhxRp4dcCMwVUzucyvzLQuQ0\n",
      "https://www.linkedin.com/in/neeraj779?miniProfileUrn=urn%3Ali%3Afs_miniProfile%3AACoAADdgwbgBpZaf2mJrJNB83vhQ9C3N9VbHbi8\n",
      "https://www.linkedin.com/in/rsd511?miniProfileUrn=urn%3Ali%3Afs_miniProfile%3AACoAAC1gXTMB1D1pXV0MvUYvu8wgdpriOstZUDg\n",
      "https://www.linkedin.com/in/abhik-chatterjee-a779bb75?miniProfileUrn=urn%3Ali%3Afs_miniProfile%3AACoAAA_9BzsBfBA2QiooRmjysISPdspqUqh6Z04\n",
      "https://www.linkedin.com/in/shreyas-chaudhari-a228a724b?miniProfileUrn=urn%3Ali%3Afs_miniProfile%3AACoAAD3j7voBMt6EV5SY6jlTnc70uB37GwygdLE\n",
      "https://www.linkedin.com/in/nishant-kumar-7729141b6?miniProfileUrn=urn%3Ali%3Afs_miniProfile%3AACoAADJTPEYBhFt0-9n8uUXUXT5s0HjmVsvlvrk\n",
      "https://www.linkedin.com/in/jatinnandal?miniProfileUrn=urn%3Ali%3Afs_miniProfile%3AACoAACX93p4B0-f43gBIldNklCJskmPiZojp19s\n",
      "https://www.linkedin.com/in/shubham-bakare-937a44213?miniProfileUrn=urn%3Ali%3Afs_miniProfile%3AACoAADYUzDsBi_akpOges9MzUD7Cz22c_22lrik\n",
      "https://www.linkedin.com/in/yash-jain-780332208?miniProfileUrn=urn%3Ali%3Afs_miniProfile%3AACoAADS66NABptw02OzbHH0cR_JdezS2Q9lfPtA\n",
      "https://www.linkedin.com/in/rishabh-s-58904596?miniProfileUrn=urn%3Ali%3Afs_miniProfile%3AACoAABRLiPkBWc6xkFtgSc0OEbgulYs39hPVpS0\n",
      "Progress : 50/100\n",
      "check3\n",
      "https://www.linkedin.com/in/dkoul?miniProfileUrn=urn%3Ali%3Afs_miniProfile%3AACoAAAEy2jUBwTJ64oSfS_l3k8OT6-2wuBAvLPo\n",
      "https://www.linkedin.com/in/surender2001?miniProfileUrn=urn%3Ali%3Afs_miniProfile%3AACoAADbGHaUBrcnjlOcuzCwb9GJNSKRZ08HKNs0\n",
      "https://www.linkedin.com/in/kaivan-shah14?miniProfileUrn=urn%3Ali%3Afs_miniProfile%3AACoAAC-grlsBxrikCUzRcsUHPYt_dYCzpBOq7gU\n",
      "https://www.linkedin.com/in/nandini-bagga-0803?miniProfileUrn=urn%3Ali%3Afs_miniProfile%3AACoAAC2v26UBPBEglUZaauykVkvPowM69OUz_xM\n",
      "https://www.linkedin.com/in/anjali-priya-96a6b2194?miniProfileUrn=urn%3Ali%3Afs_miniProfile%3AACoAAC2qVeIBlD1uGO4AwbrLrjs0Q-XKmiZQFN4\n",
      "https://www.linkedin.com/in/adarsh--?miniProfileUrn=urn%3Ali%3Afs_miniProfile%3AACoAAD1-uKABrDLSbZ2b7B34G6ypF-b5Yk9na34\n",
      "https://www.linkedin.com/in/keshav-yadav-052b3920?miniProfileUrn=urn%3Ali%3Afs_miniProfile%3AACoAAARwc_4B7pZNvTuibXJhpI5u_9OD2eERUOI\n",
      "https://www.linkedin.com/in/shreya-kumari1?miniProfileUrn=urn%3Ali%3Afs_miniProfile%3AACoAADmjVmoBQ1xuCownVjvwsxwMTMLhCGs2bU4\n",
      "https://www.linkedin.com/in/hrpancholi?miniProfileUrn=urn%3Ali%3Afs_miniProfile%3AACoAABPi9_sB92sVF-8R0Y0CW_hOKDX-P9PKH40\n",
      "https://www.linkedin.com/in/akanksha-chavan-2b53a3194?miniProfileUrn=urn%3Ali%3Afs_miniProfile%3AACoAAC2eo-kBgP7QYwnStQGac9dMUV8x1JV-xus\n",
      "Progress : 60/100\n",
      "check3\n",
      "https://www.linkedin.com/in/dhruv-bhagadia?miniProfileUrn=urn%3Ali%3Afs_miniProfile%3AACoAACV_SzoBqyKDRdppZXSncn_sjW4y7X4fBtc\n",
      "https://www.linkedin.com/in/santosh-kumar-242433209?miniProfileUrn=urn%3Ali%3Afs_miniProfile%3AACoAADTsSJIBs2eBYIlAbpTbgtmfQQlpjviExdI\n",
      "https://www.linkedin.com/in/dhwajsharma?miniProfileUrn=urn%3Ali%3Afs_miniProfile%3AACoAACv-4JABZJ21V33dpSam42KXjoC2JMbD1iI\n",
      "https://www.linkedin.com/in/surya-gupta-7a4b00117?miniProfileUrn=urn%3Ali%3Afs_miniProfile%3AACoAAB0seGwBT4nyUZ7a3lI3O8GNxnBgzOe2cY8\n",
      "https://www.linkedin.com/in/jshah24?miniProfileUrn=urn%3Ali%3Afs_miniProfile%3AACoAABiVVEYB0Zfs3JLb0EY6OpAxAV0d5Fmhryk\n",
      "https://www.linkedin.com/in/chinmay-shrikhande-9058801a6?miniProfileUrn=urn%3Ali%3Afs_miniProfile%3AACoAADAuzRUBX0A-sx6OaC3YK4IbmKo33SM_tF0\n",
      "https://www.linkedin.com/in/manujvyas229?miniProfileUrn=urn%3Ali%3Afs_miniProfile%3AACoAACV4hDgBrKFNigvL5GqL2T8hm1ayS66e53E\n",
      "https://www.linkedin.com/in/sarvesh-hiwase?miniProfileUrn=urn%3Ali%3Afs_miniProfile%3AACoAACnF0ZQB_OeRiuBnj_XoEfjxY3JTu9gAcdY\n",
      "https://www.linkedin.com/in/devesh-jamsandekar-0882b3a0?miniProfileUrn=urn%3Ali%3Afs_miniProfile%3AACoAABVmp6gBp0u6CqzOs4cKZbsGVnoD2-Fs1Wg\n",
      "https://www.linkedin.com/in/manishahluwaliaa?miniProfileUrn=urn%3Ali%3Afs_miniProfile%3AACoAACxIuUsBzKn2xFfOf9m-_46C40HMdfGTUmU\n",
      "Progress : 70/100\n",
      "check3\n",
      "https://www.linkedin.com/in/rakshit-shinde-4744961a4?miniProfileUrn=urn%3Ali%3Afs_miniProfile%3AACoAAC_E9BgBFzggzOTzoSJR1unOtyfInLCoIGI\n",
      "https://www.linkedin.com/in/ravindra-patel-iitkgp?miniProfileUrn=urn%3Ali%3Afs_miniProfile%3AACoAAC9hgEIB4UFbSwPEn3Ojh3ONcAjBK3gJOD0\n",
      "https://www.linkedin.com/in/dauleshwar-kumar?miniProfileUrn=urn%3Ali%3Afs_miniProfile%3AACoAACW6QAYBTPh747bHt81HRPjhuPM_PVkyuuI\n",
      "https://www.linkedin.com/in/shubhanshaasu?miniProfileUrn=urn%3Ali%3Afs_miniProfile%3AACoAABoJ4aIBRAXpN4e8-oBLpZf9Ze0LBi6t_MI\n",
      "https://www.linkedin.com/in/kanchan-shekhawat-3009b583?miniProfileUrn=urn%3Ali%3Afs_miniProfile%3AACoAABHEenABJraFOs8KBJpDPY2HFr29Vbg-xGs\n",
      "https://www.linkedin.com/in/viveksinghx?miniProfileUrn=urn%3Ali%3Afs_miniProfile%3AACoAACqOjl0BXQE3BLZhaS9bg9HGWtsbPWYzZ74\n",
      "https://www.linkedin.com/in/vijaybhat85?miniProfileUrn=urn%3Ali%3Afs_miniProfile%3AACoAAASObVEBBQayijp-jUQAHiAW72oHuqGnboM\n",
      "https://www.linkedin.com/in/vishal-vinay-ram?miniProfileUrn=urn%3Ali%3Afs_miniProfile%3AACoAACZaEncBihxVG9dgWZU0RCu5_AJ0Uctm6y4\n",
      "https://www.linkedin.com/in/mangal-singh-rawat-870281177?miniProfileUrn=urn%3Ali%3Afs_miniProfile%3AACoAACndW5QBJZnePHX9NJGo8z9ImMNfylj2s28\n",
      "https://www.linkedin.com/in/shubham-shinde-733147224?miniProfileUrn=urn%3Ali%3Afs_miniProfile%3AACoAADhDA1cBLNGTGYJu7dw8JoCFBXYvJSN6E64\n",
      "Progress : 80/100\n",
      "check3\n",
      "https://www.linkedin.com/in/gowri-shankar-reddy-bayyapureddy-5a28b6248?miniProfileUrn=urn%3Ali%3Afs_miniProfile%3AACoAAD1bhsoBadtAiiOyNHuCpZZfw02WScfTIeQ\n",
      "https://www.linkedin.com/in/rishav16?miniProfileUrn=urn%3Ali%3Afs_miniProfile%3AACoAACoXuR8Bvrw77GQBkHHfgOisQWcUya639BE\n",
      "https://www.linkedin.com/in/abhishika-agarwal?miniProfileUrn=urn%3Ali%3Afs_miniProfile%3AACoAACiKrjYBrQjpQ24Xy1IuCt7kalsa_M66Bnk\n",
      "https://www.linkedin.com/in/himanshu-choudhary-26514813a?miniProfileUrn=urn%3Ali%3Afs_miniProfile%3AACoAACHWJ20BgZIbFc08OTFC7d8CKi-QqCij9bo\n",
      "https://www.linkedin.com/in/santosh-yadav-388521198?miniProfileUrn=urn%3Ali%3Afs_miniProfile%3AACoAAC5Z5tgBu4QQSFN1W9DzXpwauM1xogqyY-0\n",
      "https://www.linkedin.com/in/shashwataggarwal?miniProfileUrn=urn%3Ali%3Afs_miniProfile%3AACoAAB6d39EBSjSfc5XpnK2u3Gce9Aug8Jar_10\n",
      "https://www.linkedin.com/in/suyog-khadekar-397b891a0?miniProfileUrn=urn%3Ali%3Afs_miniProfile%3AACoAAC8pCuMBwICQvDfbt3wl_qAEnhjtLOuKnFs\n",
      "https://www.linkedin.com/in/chetandandu?miniProfileUrn=urn%3Ali%3Afs_miniProfile%3AACoAADQh5CMBpfIim2FPxxQ25lRhiSXwC-ZPWXk\n",
      "https://www.linkedin.com/in/lakshmisn?miniProfileUrn=urn%3Ali%3Afs_miniProfile%3AACoAACniihsBLDMWrSdB8uzkAURJ6jv6VpEtxCU\n",
      "https://www.linkedin.com/in/krishna-baldwa?miniProfileUrn=urn%3Ali%3Afs_miniProfile%3AACoAADjQMFgBvsrcFj0YYYzCw9yHyuH5oS652K0\n",
      "Progress : 90/100\n",
      "check3\n",
      "https://www.linkedin.com/in/abhishek-jayswal-65742a166?miniProfileUrn=urn%3Ali%3Afs_miniProfile%3AACoAACeS-SMBRebvRGoO-tLtwYYrj4Lwgmdjf8g\n",
      "https://www.linkedin.com/in/anshu-mishra-98882b193?miniProfileUrn=urn%3Ali%3Afs_miniProfile%3AACoAAC2BwbgBJVvhG7TtYbdl2yZVXhzfOPiwtM4\n",
      "https://www.linkedin.com/in/ajit-zote?miniProfileUrn=urn%3Ali%3Afs_miniProfile%3AACoAAC7vdy0BXO9H4HSN-46ItSQgBdXUQeakPho\n",
      "https://www.linkedin.com/in/rohit-fulani?miniProfileUrn=urn%3Ali%3Afs_miniProfile%3AACoAADNwAgQBAB6yfWfkDkFcVkiKSfrChmQ5W7s\n",
      "https://www.linkedin.com/in/gauss14?miniProfileUrn=urn%3Ali%3Afs_miniProfile%3AACoAAAxYuh8BgyH9zswMRc4KBVt2Kv4JjeY4-VI\n",
      "https://www.linkedin.com/in/husain-mistry-4317b9133?miniProfileUrn=urn%3Ali%3Afs_miniProfile%3AACoAACCwPiUBMqMHYv07EDCcwjZFeHzX5nihiCs\n",
      "https://www.linkedin.com/in/tushar-sachdeva-b397a0205?miniProfileUrn=urn%3Ali%3Afs_miniProfile%3AACoAADRDlF0BIRpkeRpPbPnshPxWZuxu4x35maA\n",
      "https://www.linkedin.com/in/girish-b-681b65b9?miniProfileUrn=urn%3Ali%3Afs_miniProfile%3AACoAABlEH4EBfRMN4tctRydB1hD1MjTxyl0zYZk\n",
      "https://www.linkedin.com/in/nitish-bhardwaj-9753771b0?miniProfileUrn=urn%3Ali%3Afs_miniProfile%3AACoAADEtD6kB_K2ZWOXNXbYb0q1OG4HPcJw5THU\n",
      "https://www.linkedin.com/in/abhijay-rane?miniProfileUrn=urn%3Ali%3Afs_miniProfile%3AACoAADdSpi4BuOe0GLXNFhTZS6QMMCRogMVipwI\n",
      "Progress : 100/100\n",
      "check3\n"
     ]
    }
   ],
   "source": [
    "url = 'https://www.linkedin.com/search/results/people/?keywords=software%20development&origin=CLUSTER_EXPANSION&searchId=e26746ff-110f-49f5-9ac8-a8d744523a88&sid=78i'\n",
    "driver.get(url)\n",
    "\n",
    "\n",
    "profileurls = []\n",
    "while(len(profileurls)<100):\n",
    "\n",
    "# Extracting Profile Urls\n",
    "\n",
    "    # Scroll to bottom for not missing any element\n",
    "    driver.execute_script(\"window.scrollTo(0, document.body.scrollHeight);\")\n",
    "    time.sleep(0.1)\n",
    "\n",
    "\n",
    "    # Extraction\n",
    "    k = 0\n",
    "    \n",
    "    span_elements = driver.find_elements(By.CSS_SELECTOR, \"span.entity-result__title-line.entity-result__title-line--2-lines \")\n",
    "    # print(span_elements)\n",
    "    for span_element in span_elements:\n",
    "        # print(span_element.text)\n",
    "        try:\n",
    "            link = span_element.find_element(By.CSS_SELECTOR, \"a.app-aware-link\")\n",
    "            link = link.get_attribute(\"href\")\n",
    "            # if k%3 == 0:\n",
    "            profileurls.append(link)\n",
    "            k+=1\n",
    "            print(link)\n",
    "        except:\n",
    "            pass\n",
    "   \n",
    "    \n",
    "    print( \"Progress :\" , f\"{len(profileurls)}/100\" )\n",
    "    driver.execute_script(\"window.scrollTo(0, document.body.scrollHeight);\")\n",
    "    # time.sleep(1)\n",
    "    time.sleep(5)\n",
    "\n",
    "    \n",
    "    nextbutton = driver.find_element('xpath' , '//button[@class = \"artdeco-pagination__button artdeco-pagination__button--next artdeco-button artdeco-button--muted artdeco-button--icon-right artdeco-button--1 artdeco-button--tertiary ember-view\"]')\n",
    "    nextbutton.click()\n",
    "    time.sleep(5)\n",
    "    "
   ]
  },
  {
   "cell_type": "code",
   "execution_count": 33,
   "metadata": {},
   "outputs": [],
   "source": [
    "# Saving the data to a datframe\n",
    "\n",
    "df1  = pd.DataFrame({\"Name\":names , \"Current Position\": positions})\n",
    "df1.to_csv('LinkedIn_extract_Name_Pos') "
   ]
  },
  {
   "cell_type": "code",
   "execution_count": 34,
   "metadata": {},
   "outputs": [],
   "source": [
    "df1['Profile Urls'] = profileurls\n",
    "df1.to_csv('LinkedIn_extract_Name_Pos')"
   ]
  },
  {
   "cell_type": "markdown",
   "metadata": {},
   "source": [
    "## Extracting All Skill Links ( By crawling into the profile pages of the users )\n"
   ]
  },
  {
   "cell_type": "code",
   "execution_count": null,
   "metadata": {},
   "outputs": [],
   "source": [
    "url = 'https://www.linkedin.com/search/results/people/?keywords=software%20development&origin=CLUSTER_EXPANSION&searchId=e26746ff-110f-49f5-9ac8-a8d744523a88&sid=78i'\n",
    "driver.get(url)\n",
    "\n",
    "\n",
    "skill_links = []\n",
    "\n",
    "while(len(skill_links)<100):\n",
    "    for url in profileurls:\n",
    "        driver.get(url) \n",
    "        time.sleep(2)\n",
    "        driver.execute_script(\"window.scrollTo(0, document.body.scrollHeight);\")\n",
    "        time.sleep(0.1)\n",
    "        try:\n",
    "            section_element = driver.find_element('xpath',\"//section[div[@id='skills']]\")\n",
    "            # Find the anchor tag inside the div with id \"skills\"\n",
    "            anchor_tag = section_element.find_elements('xpath' , \".//a\")\n",
    "            # Get the value of the href attribute\n",
    "            href_link = anchor_tag[-1].get_attribute(\"href\")\n",
    "            skill_links.append(href_link)\n",
    "            print(href_link)\n",
    "        except:\n",
    "            skill_links.append(\"Not Uploaded\")\n",
    "        \n"
   ]
  },
  {
   "cell_type": "code",
   "execution_count": 27,
   "metadata": {},
   "outputs": [],
   "source": [
    "df1[\"Skills Links\"] = skill_links\n",
    "df1.to_csv(\"LinkedIn_extract_Name_Pos_skills\")"
   ]
  },
  {
   "cell_type": "markdown",
   "metadata": {},
   "source": [
    "## Extracting All Skills by crawling to the skills page"
   ]
  },
  {
   "cell_type": "code",
   "execution_count": null,
   "metadata": {},
   "outputs": [],
   "source": [
    "\n",
    "skills_list = [] \n",
    "\n",
    "while(len(skills_list)<100):\n",
    "    for url in skill_links:\n",
    "        # url = skill_links[i]\n",
    "        skills = ''\n",
    "        if url == 'Not Uploaded':\n",
    "            pass\n",
    "        else:\n",
    "            driver.get(url)\n",
    "            time.sleep(2)\n",
    "            skill_span_elements = driver.find_elements('xpath' , '//span[@class = \"visually-hidden\"]')\n",
    "            \n",
    "            for i in range(len(skill_span_elements)):\n",
    "                flag1 = skill_span_elements[i].text == 'Passed LinkedIn Skill Assessment'\n",
    "                flag2 = skill_span_elements[i].text.find(\"endorsement\") == -1\n",
    "                # print(flag1 , flag2 , \"\\n\")\n",
    "                if i != 0 and skill_span_elements[i].text == None and skill_span_elements[i-1] == None:\n",
    "                    break\n",
    "                if skill_span_elements[i].text and flag1 == False and flag2 :\n",
    "                    skills += skill_span_elements[i].text\n",
    "                    skills += \" , \"\n",
    "        skills_list.append(skills)\n",
    "        print(len(skills) , skills)"
   ]
  },
  {
   "cell_type": "code",
   "execution_count": 31,
   "metadata": {},
   "outputs": [
    {
     "data": {
      "text/plain": [
       "100"
      ]
     },
     "execution_count": 31,
     "metadata": {},
     "output_type": "execute_result"
    }
   ],
   "source": [
    "len(skills_list)"
   ]
  },
  {
   "cell_type": "code",
   "execution_count": 32,
   "metadata": {},
   "outputs": [],
   "source": [
    "df1[\"Skills\"] = skills_list\n",
    "df1.to_csv(\"LinkedIn_extract_Name_Pos_skills\")"
   ]
  }
 ],
 "metadata": {
  "kernelspec": {
   "display_name": "Python 3",
   "language": "python",
   "name": "python3"
  },
  "language_info": {
   "codemirror_mode": {
    "name": "ipython",
    "version": 3
   },
   "file_extension": ".py",
   "mimetype": "text/x-python",
   "name": "python",
   "nbconvert_exporter": "python",
   "pygments_lexer": "ipython3",
   "version": "3.11.7"
  }
 },
 "nbformat": 4,
 "nbformat_minor": 2
}
